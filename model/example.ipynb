{
 "cells": [
  {
   "cell_type": "code",
   "execution_count": 1,
   "metadata": {},
   "outputs": [],
   "source": [
    "import pystan\n",
    "import numpy as np\n",
    "import arviz as ar\n",
    "\n",
    "def bym_model():\n",
    "    \"\"\"Generates BYM2 Model with example data within parameters and includes the ICAR component\"\"\"\n",
    "    # Actual Stan code block for BYM2 Model\n",
    "    bym_code = \"\"\"\n",
    "\n",
    "    functions {\n",
    "        real icar_normal_lpdf(vector phi, int N, int[] node1, int[] node2){\n",
    "            return -0.5 * dot_self(phi[node1] - phi[node2]) + normal_lpdf(sum(phi) | 0, 0.001 * N);\n",
    "        }\n",
    "    }\n",
    "\n",
    "    data {\n",
    "    int<lower=0> N;\n",
    "    int<lower=0> edges;\n",
    "    int<lower=1, upper=N> node1[edges];\n",
    "    int<lower=1, upper=N> node2[edges];\n",
    "    int<lower=0> y[N];\n",
    "    vector<lower=0>[N] E;\n",
    "    int<lower=1> K;\n",
    "    matrix[N, K] x;\n",
    "    real<lower=0> scaling_factor;\n",
    "    }\n",
    "\n",
    "    transformed data {\n",
    "        vector[N] log_E = log(E);\n",
    "    }\n",
    "\n",
    "    parameters {\n",
    "        real beta0;\n",
    "        vector[K] betas;\n",
    "        real logit_rho;\n",
    "        vector[N] phi;\n",
    "        vector[N] theta;\n",
    "        real<lower=0> sigma;\n",
    "    }\n",
    "\n",
    "    transformed parameters {\n",
    "        real<lower=0, upper=1> rho = inv_logit(logit_rho);\n",
    "        vector[N] convolved_re = sqrt(rho / scaling_factor) * phi + sqrt(1 - rho) * theta;\n",
    "    }\n",
    "\n",
    "    model {\n",
    "        y ~ poisson_log(log_E + beta0 + x * betas + convolved_re * sigma);\n",
    "        beta0 ~ normal(0, 1);\n",
    "        betas ~ normal(0, 1);\n",
    "        logit_rho ~ normal(0, 1);\n",
    "        sigma ~ normal(0, 1);\n",
    "        theta ~ normal(0, 1);\n",
    "        phi ~ icar_normal_lpdf(N, node1, node2);\n",
    "    }\n",
    "\n",
    "    generated quantities {\n",
    "        vector[N] eta = log_E + beta0 + x * betas + convolved_re * sigma;\n",
    "        vector[N] mu = exp(eta);\n",
    "        int y_rep[N];\n",
    "        if (max(eta) > 20) {\n",
    "            //avoid overflow in poisson_log\n",
    "            print(\"max eta is too large: \", max(eta));\n",
    "        for (n in 1:N)\n",
    "           y_rep[n] = -1;\n",
    "    } else {\n",
    "        for (n in 1:N)\n",
    "            y_rep[n] = poisson_log_rng(eta[n]);\n",
    "        }\n",
    "    }\n",
    "    \"\"\"\n",
    "\n",
    "    # intialized matrix and data\n",
    "    matrix = np.array([[1, 2, 3, 4], [1, 2, 3, 4], [1, 2, 3, 4], [1, 2, 3, 4], [1, 2, 3, 4]])\n",
    "    print(matrix.shape)\n",
    "    bym_data = {\n",
    "        'N': 5,\n",
    "        'edges': 10,\n",
    "        'node1': [1, 1, 2, 2, 2, 3, 4, 5, 2, 3],\n",
    "        'node2': [2, 1, 1, 1, 2, 3, 4, 5, 5, 2],\n",
    "        'y': [1, 2, 3, 4, 5],\n",
    "        'E': [1, 1, 2, 3, 4],\n",
    "        'K': 4,\n",
    "        'x': matrix,\n",
    "        'scaling_factor': 2.0\n",
    "    }\n",
    "    # Utitlize pystan package to allow the built-in StanModel class to fully generate a model and arviz to plot\n",
    "    sm = pystan.StanModel(model_code=bym_code)\n",
    "    fit = sm.sampling(data=bym_data, iter=1000, chains=4)\n",
    "    ar.plot_density(fit, var_names=['beta0', 'betas', 'logit_rho', 'sigma', 'theta'])\n",
    "\n"
   ]
  },
  {
   "cell_type": "code",
   "execution_count": 2,
   "metadata": {},
   "outputs": [
    {
     "name": "stderr",
     "output_type": "stream",
     "text": [
      "INFO:pystan:COMPILING THE C++ CODE FOR MODEL anon_model_facc8ab0a2ebc9a77c5168189439d5c8 NOW.\n"
     ]
    },
    {
     "name": "stdout",
     "output_type": "stream",
     "text": [
      "(5, 4)\n"
     ]
    },
    {
     "ename": "KeyboardInterrupt",
     "evalue": "",
     "output_type": "error",
     "traceback": [
      "\u001B[0;31m---------------------------------------------------------------------------\u001B[0m",
      "\u001B[0;31mKeyboardInterrupt\u001B[0m                         Traceback (most recent call last)",
      "\u001B[0;32m<ipython-input-2-9c7abb544a48>\u001B[0m in \u001B[0;36m<module>\u001B[0;34m\u001B[0m\n\u001B[0;32m----> 1\u001B[0;31m \u001B[0mbym_model\u001B[0m\u001B[0;34m(\u001B[0m\u001B[0;34m)\u001B[0m\u001B[0;34m\u001B[0m\u001B[0;34m\u001B[0m\u001B[0m\n\u001B[0m\u001B[1;32m      2\u001B[0m \u001B[0;34m\u001B[0m\u001B[0m\n",
      "\u001B[0;32m<ipython-input-1-b82c071fa731>\u001B[0m in \u001B[0;36mbym_model\u001B[0;34m()\u001B[0m\n\u001B[1;32m     85\u001B[0m     }\n\u001B[1;32m     86\u001B[0m     \u001B[0;31m# Utitlize pystan package to allow the built-in StanModel class to fully generate a model and arviz to plot\u001B[0m\u001B[0;34m\u001B[0m\u001B[0;34m\u001B[0m\u001B[0;34m\u001B[0m\u001B[0m\n\u001B[0;32m---> 87\u001B[0;31m     \u001B[0msm\u001B[0m \u001B[0;34m=\u001B[0m \u001B[0mpystan\u001B[0m\u001B[0;34m.\u001B[0m\u001B[0mStanModel\u001B[0m\u001B[0;34m(\u001B[0m\u001B[0mmodel_code\u001B[0m\u001B[0;34m=\u001B[0m\u001B[0mbym_code\u001B[0m\u001B[0;34m)\u001B[0m\u001B[0;34m\u001B[0m\u001B[0;34m\u001B[0m\u001B[0m\n\u001B[0m\u001B[1;32m     88\u001B[0m     \u001B[0mfit\u001B[0m \u001B[0;34m=\u001B[0m \u001B[0msm\u001B[0m\u001B[0;34m.\u001B[0m\u001B[0msampling\u001B[0m\u001B[0;34m(\u001B[0m\u001B[0mdata\u001B[0m\u001B[0;34m=\u001B[0m\u001B[0mbym_data\u001B[0m\u001B[0;34m,\u001B[0m \u001B[0miter\u001B[0m\u001B[0;34m=\u001B[0m\u001B[0;36m1000\u001B[0m\u001B[0;34m,\u001B[0m \u001B[0mchains\u001B[0m\u001B[0;34m=\u001B[0m\u001B[0;36m4\u001B[0m\u001B[0;34m)\u001B[0m\u001B[0;34m\u001B[0m\u001B[0;34m\u001B[0m\u001B[0m\n\u001B[1;32m     89\u001B[0m     \u001B[0mar\u001B[0m\u001B[0;34m.\u001B[0m\u001B[0mplot_density\u001B[0m\u001B[0;34m(\u001B[0m\u001B[0mfit\u001B[0m\u001B[0;34m,\u001B[0m \u001B[0mvar_names\u001B[0m\u001B[0;34m=\u001B[0m\u001B[0;34m[\u001B[0m\u001B[0;34m'beta0'\u001B[0m\u001B[0;34m,\u001B[0m \u001B[0;34m'betas'\u001B[0m\u001B[0;34m,\u001B[0m \u001B[0;34m'logit_rho'\u001B[0m\u001B[0;34m,\u001B[0m \u001B[0;34m'sigma'\u001B[0m\u001B[0;34m,\u001B[0m \u001B[0;34m'theta'\u001B[0m\u001B[0;34m]\u001B[0m\u001B[0;34m)\u001B[0m\u001B[0;34m\u001B[0m\u001B[0;34m\u001B[0m\u001B[0m\n",
      "\u001B[0;32m~/Library/Python/3.7/lib/python/site-packages/pystan/model.py\u001B[0m in \u001B[0;36m__init__\u001B[0;34m(self, file, charset, model_name, model_code, stanc_ret, include_paths, boost_lib, eigen_lib, verbose, obfuscate_model_name, extra_compile_args, allow_undefined, include_dirs, includes)\u001B[0m\n\u001B[1;32m    376\u001B[0m \u001B[0;34m\u001B[0m\u001B[0m\n\u001B[1;32m    377\u001B[0m         \u001B[0;32mtry\u001B[0m\u001B[0;34m:\u001B[0m\u001B[0;34m\u001B[0m\u001B[0;34m\u001B[0m\u001B[0m\n\u001B[0;32m--> 378\u001B[0;31m             \u001B[0mbuild_extension\u001B[0m\u001B[0;34m.\u001B[0m\u001B[0mrun\u001B[0m\u001B[0;34m(\u001B[0m\u001B[0;34m)\u001B[0m\u001B[0;34m\u001B[0m\u001B[0;34m\u001B[0m\u001B[0m\n\u001B[0m\u001B[1;32m    379\u001B[0m         \u001B[0;32mfinally\u001B[0m\u001B[0;34m:\u001B[0m\u001B[0;34m\u001B[0m\u001B[0;34m\u001B[0m\u001B[0m\n\u001B[1;32m    380\u001B[0m             \u001B[0;32mif\u001B[0m \u001B[0mredirect_stderr\u001B[0m\u001B[0;34m:\u001B[0m\u001B[0;34m\u001B[0m\u001B[0;34m\u001B[0m\u001B[0m\n",
      "\u001B[0;32m/usr/local/Cellar/python/3.7.6_1/Frameworks/Python.framework/Versions/3.7/lib/python3.7/distutils/command/build_ext.py\u001B[0m in \u001B[0;36mrun\u001B[0;34m(self)\u001B[0m\n\u001B[1;32m    338\u001B[0m \u001B[0;34m\u001B[0m\u001B[0m\n\u001B[1;32m    339\u001B[0m         \u001B[0;31m# Now actually compile and link everything.\u001B[0m\u001B[0;34m\u001B[0m\u001B[0;34m\u001B[0m\u001B[0;34m\u001B[0m\u001B[0m\n\u001B[0;32m--> 340\u001B[0;31m         \u001B[0mself\u001B[0m\u001B[0;34m.\u001B[0m\u001B[0mbuild_extensions\u001B[0m\u001B[0;34m(\u001B[0m\u001B[0;34m)\u001B[0m\u001B[0;34m\u001B[0m\u001B[0;34m\u001B[0m\u001B[0m\n\u001B[0m\u001B[1;32m    341\u001B[0m \u001B[0;34m\u001B[0m\u001B[0m\n\u001B[1;32m    342\u001B[0m     \u001B[0;32mdef\u001B[0m \u001B[0mcheck_extensions_list\u001B[0m\u001B[0;34m(\u001B[0m\u001B[0mself\u001B[0m\u001B[0;34m,\u001B[0m \u001B[0mextensions\u001B[0m\u001B[0;34m)\u001B[0m\u001B[0;34m:\u001B[0m\u001B[0;34m\u001B[0m\u001B[0;34m\u001B[0m\u001B[0m\n",
      "\u001B[0;32m/usr/local/Cellar/python/3.7.6_1/Frameworks/Python.framework/Versions/3.7/lib/python3.7/distutils/command/build_ext.py\u001B[0m in \u001B[0;36mbuild_extensions\u001B[0;34m(self)\u001B[0m\n\u001B[1;32m    447\u001B[0m             \u001B[0mself\u001B[0m\u001B[0;34m.\u001B[0m\u001B[0m_build_extensions_parallel\u001B[0m\u001B[0;34m(\u001B[0m\u001B[0;34m)\u001B[0m\u001B[0;34m\u001B[0m\u001B[0;34m\u001B[0m\u001B[0m\n\u001B[1;32m    448\u001B[0m         \u001B[0;32melse\u001B[0m\u001B[0;34m:\u001B[0m\u001B[0;34m\u001B[0m\u001B[0;34m\u001B[0m\u001B[0m\n\u001B[0;32m--> 449\u001B[0;31m             \u001B[0mself\u001B[0m\u001B[0;34m.\u001B[0m\u001B[0m_build_extensions_serial\u001B[0m\u001B[0;34m(\u001B[0m\u001B[0;34m)\u001B[0m\u001B[0;34m\u001B[0m\u001B[0;34m\u001B[0m\u001B[0m\n\u001B[0m\u001B[1;32m    450\u001B[0m \u001B[0;34m\u001B[0m\u001B[0m\n\u001B[1;32m    451\u001B[0m     \u001B[0;32mdef\u001B[0m \u001B[0m_build_extensions_parallel\u001B[0m\u001B[0;34m(\u001B[0m\u001B[0mself\u001B[0m\u001B[0;34m)\u001B[0m\u001B[0;34m:\u001B[0m\u001B[0;34m\u001B[0m\u001B[0;34m\u001B[0m\u001B[0m\n",
      "\u001B[0;32m/usr/local/Cellar/python/3.7.6_1/Frameworks/Python.framework/Versions/3.7/lib/python3.7/distutils/command/build_ext.py\u001B[0m in \u001B[0;36m_build_extensions_serial\u001B[0;34m(self)\u001B[0m\n\u001B[1;32m    472\u001B[0m         \u001B[0;32mfor\u001B[0m \u001B[0mext\u001B[0m \u001B[0;32min\u001B[0m \u001B[0mself\u001B[0m\u001B[0;34m.\u001B[0m\u001B[0mextensions\u001B[0m\u001B[0;34m:\u001B[0m\u001B[0;34m\u001B[0m\u001B[0;34m\u001B[0m\u001B[0m\n\u001B[1;32m    473\u001B[0m             \u001B[0;32mwith\u001B[0m \u001B[0mself\u001B[0m\u001B[0;34m.\u001B[0m\u001B[0m_filter_build_errors\u001B[0m\u001B[0;34m(\u001B[0m\u001B[0mext\u001B[0m\u001B[0;34m)\u001B[0m\u001B[0;34m:\u001B[0m\u001B[0;34m\u001B[0m\u001B[0;34m\u001B[0m\u001B[0m\n\u001B[0;32m--> 474\u001B[0;31m                 \u001B[0mself\u001B[0m\u001B[0;34m.\u001B[0m\u001B[0mbuild_extension\u001B[0m\u001B[0;34m(\u001B[0m\u001B[0mext\u001B[0m\u001B[0;34m)\u001B[0m\u001B[0;34m\u001B[0m\u001B[0;34m\u001B[0m\u001B[0m\n\u001B[0m\u001B[1;32m    475\u001B[0m \u001B[0;34m\u001B[0m\u001B[0m\n\u001B[1;32m    476\u001B[0m     \u001B[0;34m@\u001B[0m\u001B[0mcontextlib\u001B[0m\u001B[0;34m.\u001B[0m\u001B[0mcontextmanager\u001B[0m\u001B[0;34m\u001B[0m\u001B[0;34m\u001B[0m\u001B[0m\n",
      "\u001B[0;32m/usr/local/Cellar/python/3.7.6_1/Frameworks/Python.framework/Versions/3.7/lib/python3.7/distutils/command/build_ext.py\u001B[0m in \u001B[0;36mbuild_extension\u001B[0;34m(self, ext)\u001B[0m\n\u001B[1;32m    532\u001B[0m                                          \u001B[0mdebug\u001B[0m\u001B[0;34m=\u001B[0m\u001B[0mself\u001B[0m\u001B[0;34m.\u001B[0m\u001B[0mdebug\u001B[0m\u001B[0;34m,\u001B[0m\u001B[0;34m\u001B[0m\u001B[0;34m\u001B[0m\u001B[0m\n\u001B[1;32m    533\u001B[0m                                          \u001B[0mextra_postargs\u001B[0m\u001B[0;34m=\u001B[0m\u001B[0mextra_args\u001B[0m\u001B[0;34m,\u001B[0m\u001B[0;34m\u001B[0m\u001B[0;34m\u001B[0m\u001B[0m\n\u001B[0;32m--> 534\u001B[0;31m                                          depends=ext.depends)\n\u001B[0m\u001B[1;32m    535\u001B[0m \u001B[0;34m\u001B[0m\u001B[0m\n\u001B[1;32m    536\u001B[0m         \u001B[0;31m# XXX outdated variable, kept here in case third-part code\u001B[0m\u001B[0;34m\u001B[0m\u001B[0;34m\u001B[0m\u001B[0;34m\u001B[0m\u001B[0m\n",
      "\u001B[0;32m/usr/local/Cellar/python/3.7.6_1/Frameworks/Python.framework/Versions/3.7/lib/python3.7/distutils/ccompiler.py\u001B[0m in \u001B[0;36mcompile\u001B[0;34m(self, sources, output_dir, macros, include_dirs, debug, extra_preargs, extra_postargs, depends)\u001B[0m\n\u001B[1;32m    572\u001B[0m             \u001B[0;32mexcept\u001B[0m \u001B[0mKeyError\u001B[0m\u001B[0;34m:\u001B[0m\u001B[0;34m\u001B[0m\u001B[0;34m\u001B[0m\u001B[0m\n\u001B[1;32m    573\u001B[0m                 \u001B[0;32mcontinue\u001B[0m\u001B[0;34m\u001B[0m\u001B[0;34m\u001B[0m\u001B[0m\n\u001B[0;32m--> 574\u001B[0;31m             \u001B[0mself\u001B[0m\u001B[0;34m.\u001B[0m\u001B[0m_compile\u001B[0m\u001B[0;34m(\u001B[0m\u001B[0mobj\u001B[0m\u001B[0;34m,\u001B[0m \u001B[0msrc\u001B[0m\u001B[0;34m,\u001B[0m \u001B[0mext\u001B[0m\u001B[0;34m,\u001B[0m \u001B[0mcc_args\u001B[0m\u001B[0;34m,\u001B[0m \u001B[0mextra_postargs\u001B[0m\u001B[0;34m,\u001B[0m \u001B[0mpp_opts\u001B[0m\u001B[0;34m)\u001B[0m\u001B[0;34m\u001B[0m\u001B[0;34m\u001B[0m\u001B[0m\n\u001B[0m\u001B[1;32m    575\u001B[0m \u001B[0;34m\u001B[0m\u001B[0m\n\u001B[1;32m    576\u001B[0m         \u001B[0;31m# Return *all* object filenames, not just the ones we just built.\u001B[0m\u001B[0;34m\u001B[0m\u001B[0;34m\u001B[0m\u001B[0;34m\u001B[0m\u001B[0m\n",
      "\u001B[0;32m/usr/local/Cellar/python/3.7.6_1/Frameworks/Python.framework/Versions/3.7/lib/python3.7/distutils/unixccompiler.py\u001B[0m in \u001B[0;36m_compile\u001B[0;34m(self, obj, src, ext, cc_args, extra_postargs, pp_opts)\u001B[0m\n\u001B[1;32m    116\u001B[0m         \u001B[0;32mtry\u001B[0m\u001B[0;34m:\u001B[0m\u001B[0;34m\u001B[0m\u001B[0;34m\u001B[0m\u001B[0m\n\u001B[1;32m    117\u001B[0m             self.spawn(compiler_so + cc_args + [src, '-o', obj] +\n\u001B[0;32m--> 118\u001B[0;31m                        extra_postargs)\n\u001B[0m\u001B[1;32m    119\u001B[0m         \u001B[0;32mexcept\u001B[0m \u001B[0mDistutilsExecError\u001B[0m \u001B[0;32mas\u001B[0m \u001B[0mmsg\u001B[0m\u001B[0;34m:\u001B[0m\u001B[0;34m\u001B[0m\u001B[0;34m\u001B[0m\u001B[0m\n\u001B[1;32m    120\u001B[0m             \u001B[0;32mraise\u001B[0m \u001B[0mCompileError\u001B[0m\u001B[0;34m(\u001B[0m\u001B[0mmsg\u001B[0m\u001B[0;34m)\u001B[0m\u001B[0;34m\u001B[0m\u001B[0;34m\u001B[0m\u001B[0m\n",
      "\u001B[0;32m/usr/local/Cellar/python/3.7.6_1/Frameworks/Python.framework/Versions/3.7/lib/python3.7/distutils/ccompiler.py\u001B[0m in \u001B[0;36mspawn\u001B[0;34m(self, cmd)\u001B[0m\n\u001B[1;32m    908\u001B[0m \u001B[0;34m\u001B[0m\u001B[0m\n\u001B[1;32m    909\u001B[0m     \u001B[0;32mdef\u001B[0m \u001B[0mspawn\u001B[0m\u001B[0;34m(\u001B[0m\u001B[0mself\u001B[0m\u001B[0;34m,\u001B[0m \u001B[0mcmd\u001B[0m\u001B[0;34m)\u001B[0m\u001B[0;34m:\u001B[0m\u001B[0;34m\u001B[0m\u001B[0;34m\u001B[0m\u001B[0m\n\u001B[0;32m--> 910\u001B[0;31m         \u001B[0mspawn\u001B[0m\u001B[0;34m(\u001B[0m\u001B[0mcmd\u001B[0m\u001B[0;34m,\u001B[0m \u001B[0mdry_run\u001B[0m\u001B[0;34m=\u001B[0m\u001B[0mself\u001B[0m\u001B[0;34m.\u001B[0m\u001B[0mdry_run\u001B[0m\u001B[0;34m)\u001B[0m\u001B[0;34m\u001B[0m\u001B[0;34m\u001B[0m\u001B[0m\n\u001B[0m\u001B[1;32m    911\u001B[0m \u001B[0;34m\u001B[0m\u001B[0m\n\u001B[1;32m    912\u001B[0m     \u001B[0;32mdef\u001B[0m \u001B[0mmove_file\u001B[0m\u001B[0;34m(\u001B[0m\u001B[0mself\u001B[0m\u001B[0;34m,\u001B[0m \u001B[0msrc\u001B[0m\u001B[0;34m,\u001B[0m \u001B[0mdst\u001B[0m\u001B[0;34m)\u001B[0m\u001B[0;34m:\u001B[0m\u001B[0;34m\u001B[0m\u001B[0;34m\u001B[0m\u001B[0m\n",
      "\u001B[0;32m/usr/local/Cellar/python/3.7.6_1/Frameworks/Python.framework/Versions/3.7/lib/python3.7/distutils/spawn.py\u001B[0m in \u001B[0;36mspawn\u001B[0;34m(cmd, search_path, verbose, dry_run)\u001B[0m\n\u001B[1;32m     34\u001B[0m     \u001B[0mcmd\u001B[0m \u001B[0;34m=\u001B[0m \u001B[0mlist\u001B[0m\u001B[0;34m(\u001B[0m\u001B[0mcmd\u001B[0m\u001B[0;34m)\u001B[0m\u001B[0;34m\u001B[0m\u001B[0;34m\u001B[0m\u001B[0m\n\u001B[1;32m     35\u001B[0m     \u001B[0;32mif\u001B[0m \u001B[0mos\u001B[0m\u001B[0;34m.\u001B[0m\u001B[0mname\u001B[0m \u001B[0;34m==\u001B[0m \u001B[0;34m'posix'\u001B[0m\u001B[0;34m:\u001B[0m\u001B[0;34m\u001B[0m\u001B[0;34m\u001B[0m\u001B[0m\n\u001B[0;32m---> 36\u001B[0;31m         \u001B[0m_spawn_posix\u001B[0m\u001B[0;34m(\u001B[0m\u001B[0mcmd\u001B[0m\u001B[0;34m,\u001B[0m \u001B[0msearch_path\u001B[0m\u001B[0;34m,\u001B[0m \u001B[0mdry_run\u001B[0m\u001B[0;34m=\u001B[0m\u001B[0mdry_run\u001B[0m\u001B[0;34m)\u001B[0m\u001B[0;34m\u001B[0m\u001B[0;34m\u001B[0m\u001B[0m\n\u001B[0m\u001B[1;32m     37\u001B[0m     \u001B[0;32melif\u001B[0m \u001B[0mos\u001B[0m\u001B[0;34m.\u001B[0m\u001B[0mname\u001B[0m \u001B[0;34m==\u001B[0m \u001B[0;34m'nt'\u001B[0m\u001B[0;34m:\u001B[0m\u001B[0;34m\u001B[0m\u001B[0;34m\u001B[0m\u001B[0m\n\u001B[1;32m     38\u001B[0m         \u001B[0m_spawn_nt\u001B[0m\u001B[0;34m(\u001B[0m\u001B[0mcmd\u001B[0m\u001B[0;34m,\u001B[0m \u001B[0msearch_path\u001B[0m\u001B[0;34m,\u001B[0m \u001B[0mdry_run\u001B[0m\u001B[0;34m=\u001B[0m\u001B[0mdry_run\u001B[0m\u001B[0;34m)\u001B[0m\u001B[0;34m\u001B[0m\u001B[0;34m\u001B[0m\u001B[0m\n",
      "\u001B[0;32m/usr/local/Cellar/python/3.7.6_1/Frameworks/Python.framework/Versions/3.7/lib/python3.7/distutils/spawn.py\u001B[0m in \u001B[0;36m_spawn_posix\u001B[0;34m(cmd, search_path, verbose, dry_run)\u001B[0m\n\u001B[1;32m    136\u001B[0m         \u001B[0;32mwhile\u001B[0m \u001B[0;32mTrue\u001B[0m\u001B[0;34m:\u001B[0m\u001B[0;34m\u001B[0m\u001B[0;34m\u001B[0m\u001B[0m\n\u001B[1;32m    137\u001B[0m             \u001B[0;32mtry\u001B[0m\u001B[0;34m:\u001B[0m\u001B[0;34m\u001B[0m\u001B[0;34m\u001B[0m\u001B[0m\n\u001B[0;32m--> 138\u001B[0;31m                 \u001B[0mpid\u001B[0m\u001B[0;34m,\u001B[0m \u001B[0mstatus\u001B[0m \u001B[0;34m=\u001B[0m \u001B[0mos\u001B[0m\u001B[0;34m.\u001B[0m\u001B[0mwaitpid\u001B[0m\u001B[0;34m(\u001B[0m\u001B[0mpid\u001B[0m\u001B[0;34m,\u001B[0m \u001B[0;36m0\u001B[0m\u001B[0;34m)\u001B[0m\u001B[0;34m\u001B[0m\u001B[0;34m\u001B[0m\u001B[0m\n\u001B[0m\u001B[1;32m    139\u001B[0m             \u001B[0;32mexcept\u001B[0m \u001B[0mOSError\u001B[0m \u001B[0;32mas\u001B[0m \u001B[0mexc\u001B[0m\u001B[0;34m:\u001B[0m\u001B[0;34m\u001B[0m\u001B[0;34m\u001B[0m\u001B[0m\n\u001B[1;32m    140\u001B[0m                 \u001B[0;32mif\u001B[0m \u001B[0;32mnot\u001B[0m \u001B[0mDEBUG\u001B[0m\u001B[0;34m:\u001B[0m\u001B[0;34m\u001B[0m\u001B[0;34m\u001B[0m\u001B[0m\n",
      "\u001B[0;31mKeyboardInterrupt\u001B[0m: "
     ]
    }
   ],
   "source": [
    "bym_model()"
   ]
  },
  {
   "cell_type": "code",
   "execution_count": null,
   "metadata": {},
   "outputs": [],
   "source": []
  }
 ],
 "metadata": {
  "kernelspec": {
   "display_name": "Python 3",
   "language": "python",
   "name": "python3"
  },
  "language_info": {
   "codemirror_mode": {
    "name": "ipython",
    "version": 3
   },
   "file_extension": ".py",
   "mimetype": "text/x-python",
   "name": "python",
   "nbconvert_exporter": "python",
   "pygments_lexer": "ipython3",
   "version": "3.7.3"
  }
 },
 "nbformat": 4,
 "nbformat_minor": 4
}